{
 "cells": [
  {
   "cell_type": "code",
   "execution_count": 15,
   "metadata": {},
   "outputs": [],
   "source": [
    "import pandas as pd\n",
    "import matplotlib.pyplot as plt \n",
    "%matplotlib inline\n",
    "import seaborn as sns"
   ]
  },
  {
   "cell_type": "markdown",
   "metadata": {},
   "source": [
    "Reading DataFrame showing first 5"
   ]
  },
  {
   "cell_type": "code",
   "execution_count": 34,
   "metadata": {},
   "outputs": [
    {
     "name": "stdout",
     "output_type": "stream",
     "text": [
      "<class 'pandas.core.frame.DataFrame'>\n",
      "RangeIndex: 90 entries, 0 to 89\n",
      "Data columns (total 6 columns):\n",
      " #   Column      Non-Null Count  Dtype \n",
      "---  ------      --------------  ----- \n",
      " 0   Name        90 non-null     object\n",
      " 1   Strength    90 non-null     int64 \n",
      " 2   Leadership  90 non-null     int64 \n",
      " 3   Knowledge   90 non-null     int64 \n",
      " 4   State       88 non-null     object\n",
      " 5   Rank        90 non-null     object\n",
      "dtypes: int64(3), object(3)\n",
      "memory usage: 4.3+ KB\n"
     ]
    }
   ],
   "source": [
    "# Create a pandas DataFrame\n",
    "df = pd.read_csv(r'C:/Users/draco\\Desktop/Python Boot Camp/Jupyter/Pandas/Projects/Kingdom_character_stats.csv')\n",
    "\n",
    "# Head displays the first few rows of the dataset\n",
    "df.info()\n"
   ]
  },
  {
   "cell_type": "markdown",
   "metadata": {},
   "source": [
    "Check for missing data in sheet"
   ]
  },
  {
   "cell_type": "code",
   "execution_count": 36,
   "metadata": {},
   "outputs": [
    {
     "name": "stdout",
     "output_type": "stream",
     "text": [
      "<bound method Series.notnull of 0      Qin\n",
      "1     Zhao\n",
      "2     Zhao\n",
      "3      Qin\n",
      "4      Qin\n",
      "      ... \n",
      "85     Qin\n",
      "86     Qin\n",
      "87     Chu\n",
      "88     Yan\n",
      "89    Zhao\n",
      "Name: State, Length: 90, dtype: object>\n"
     ]
    }
   ],
   "source": [
    "not_missing_data = df['State'].notnull\n",
    "print(not_missing_data)\n"
   ]
  },
  {
   "cell_type": "markdown",
   "metadata": {},
   "source": [
    "If there any missing data fill with NA"
   ]
  },
  {
   "cell_type": "code",
   "execution_count": 38,
   "metadata": {},
   "outputs": [
    {
     "data": {
      "text/html": [
       "<div>\n",
       "<style scoped>\n",
       "    .dataframe tbody tr th:only-of-type {\n",
       "        vertical-align: middle;\n",
       "    }\n",
       "\n",
       "    .dataframe tbody tr th {\n",
       "        vertical-align: top;\n",
       "    }\n",
       "\n",
       "    .dataframe thead th {\n",
       "        text-align: right;\n",
       "    }\n",
       "</style>\n",
       "<table border=\"1\" class=\"dataframe\">\n",
       "  <thead>\n",
       "    <tr style=\"text-align: right;\">\n",
       "      <th></th>\n",
       "      <th>Name</th>\n",
       "      <th>Strength</th>\n",
       "      <th>Leadership</th>\n",
       "      <th>Knowledge</th>\n",
       "      <th>State</th>\n",
       "      <th>Rank</th>\n",
       "    </tr>\n",
       "  </thead>\n",
       "  <tbody>\n",
       "    <tr>\n",
       "      <th>73</th>\n",
       "      <td>Yuuren (S+)</td>\n",
       "      <td>95</td>\n",
       "      <td>80</td>\n",
       "      <td>83</td>\n",
       "      <td>NA</td>\n",
       "      <td>General</td>\n",
       "    </tr>\n",
       "    <tr>\n",
       "      <th>74</th>\n",
       "      <td>Kyoushou (S+)</td>\n",
       "      <td>90</td>\n",
       "      <td>80</td>\n",
       "      <td>85</td>\n",
       "      <td>NA</td>\n",
       "      <td>General</td>\n",
       "    </tr>\n",
       "  </tbody>\n",
       "</table>\n",
       "</div>"
      ],
      "text/plain": [
       "             Name  Strength  Leadership  Knowledge State     Rank\n",
       "73    Yuuren (S+)        95          80         83    NA  General\n",
       "74  Kyoushou (S+)        90          80         85    NA  General"
      ]
     },
     "execution_count": 38,
     "metadata": {},
     "output_type": "execute_result"
    }
   ],
   "source": [
    "#df.fillna('NA', inplace=True)\n",
    "df.fillna('NA',inplace=True)\n",
    "nas = df[df.State == 'NA']\n",
    "nas"
   ]
  },
  {
   "cell_type": "markdown",
   "metadata": {},
   "source": [
    "Only display the generals from the state of Qin"
   ]
  },
  {
   "cell_type": "code",
   "execution_count": 39,
   "metadata": {},
   "outputs": [
    {
     "data": {
      "text/html": [
       "<div>\n",
       "<style scoped>\n",
       "    .dataframe tbody tr th:only-of-type {\n",
       "        vertical-align: middle;\n",
       "    }\n",
       "\n",
       "    .dataframe tbody tr th {\n",
       "        vertical-align: top;\n",
       "    }\n",
       "\n",
       "    .dataframe thead th {\n",
       "        text-align: right;\n",
       "    }\n",
       "</style>\n",
       "<table border=\"1\" class=\"dataframe\">\n",
       "  <thead>\n",
       "    <tr style=\"text-align: right;\">\n",
       "      <th></th>\n",
       "      <th>Name</th>\n",
       "      <th>Strength</th>\n",
       "      <th>Leadership</th>\n",
       "      <th>Knowledge</th>\n",
       "      <th>State</th>\n",
       "      <th>Rank</th>\n",
       "    </tr>\n",
       "  </thead>\n",
       "  <tbody>\n",
       "    <tr>\n",
       "      <th>0</th>\n",
       "      <td>Yotanwa</td>\n",
       "      <td>95</td>\n",
       "      <td>99</td>\n",
       "      <td>96</td>\n",
       "      <td>Qin</td>\n",
       "      <td>Great General</td>\n",
       "    </tr>\n",
       "    <tr>\n",
       "      <th>3</th>\n",
       "      <td>Sei</td>\n",
       "      <td>82</td>\n",
       "      <td>98</td>\n",
       "      <td>92</td>\n",
       "      <td>Qin</td>\n",
       "      <td>King</td>\n",
       "    </tr>\n",
       "    <tr>\n",
       "      <th>4</th>\n",
       "      <td>Kyou</td>\n",
       "      <td>94</td>\n",
       "      <td>97</td>\n",
       "      <td>95</td>\n",
       "      <td>Qin</td>\n",
       "      <td>General</td>\n",
       "    </tr>\n",
       "    <tr>\n",
       "      <th>5</th>\n",
       "      <td>Shouheikun</td>\n",
       "      <td>90</td>\n",
       "      <td>96</td>\n",
       "      <td>98</td>\n",
       "      <td>Qin</td>\n",
       "      <td>General</td>\n",
       "    </tr>\n",
       "    <tr>\n",
       "      <th>6</th>\n",
       "      <td>Duke Hyou (I)</td>\n",
       "      <td>95</td>\n",
       "      <td>95</td>\n",
       "      <td>70</td>\n",
       "      <td>Qin</td>\n",
       "      <td>General</td>\n",
       "    </tr>\n",
       "  </tbody>\n",
       "</table>\n",
       "</div>"
      ],
      "text/plain": [
       "            Name  Strength  Leadership  Knowledge State           Rank\n",
       "0        Yotanwa        95          99         96   Qin  Great General\n",
       "3            Sei        82          98         92   Qin           King\n",
       "4           Kyou        94          97         95   Qin        General\n",
       "5     Shouheikun        90          96         98   Qin        General\n",
       "6  Duke Hyou (I)        95          95         70   Qin        General"
      ]
     },
     "execution_count": 39,
     "metadata": {},
     "output_type": "execute_result"
    }
   ],
   "source": [
    "qin_Gen = df[df.State == 'Qin']\n",
    "qin_Gen.head()"
   ]
  },
  {
   "cell_type": "markdown",
   "metadata": {},
   "source": [
    "Sort the Qin generals by rank?"
   ]
  },
  {
   "cell_type": "code",
   "execution_count": 59,
   "metadata": {},
   "outputs": [
    {
     "data": {
      "image/png": "[encoded data removed]",
      "text/plain": [
       "<Figure size 640x480 with 1 Axes>"
      ]
     },
     "metadata": {},
     "output_type": "display_data"
    }
   ],
   "source": [
    "#First group data, Unstack, create variable to sort values, add Plot\n",
    "#g = df.groupby(['Athlete', 'Medal']).size().unstack('Medal',fill_value=0)\n",
    "#g.sort_values(['Gold','Silver','Bronze'], ascending=False)[['Gold', 'Silver','Bronze']].head().plot(kind='bar')\n",
    "#fo.Sport.value_counts().plot(kind='line'); #added semi colon to remove plot title\n",
    "ns = qin_Gen.groupby(['Name','Rank']).size().unstack('Rank',fill_value=0)\n",
    "ns.sort_values(['King','Great General','General'], ascending=False)[['King','Great General','General']].plot(kind='bar');"
   ]
  },
  {
   "cell_type": "markdown",
   "metadata": {},
   "source": [
    "Only Display generals of Rank: Great General"
   ]
  },
  {
   "cell_type": "code",
   "execution_count": 80,
   "metadata": {},
   "outputs": [
    {
     "data": {
      "text/html": [
       "<div>\n",
       "<style scoped>\n",
       "    .dataframe tbody tr th:only-of-type {\n",
       "        vertical-align: middle;\n",
       "    }\n",
       "\n",
       "    .dataframe tbody tr th {\n",
       "        vertical-align: top;\n",
       "    }\n",
       "\n",
       "    .dataframe thead th {\n",
       "        text-align: right;\n",
       "    }\n",
       "</style>\n",
       "<table border=\"1\" class=\"dataframe\">\n",
       "  <thead>\n",
       "    <tr style=\"text-align: right;\">\n",
       "      <th></th>\n",
       "      <th>Name</th>\n",
       "      <th>Strength</th>\n",
       "      <th>Leadership</th>\n",
       "      <th>Knowledge</th>\n",
       "      <th>State</th>\n",
       "      <th>Rank</th>\n",
       "    </tr>\n",
       "  </thead>\n",
       "  <tbody>\n",
       "    <tr>\n",
       "      <th>0</th>\n",
       "      <td>Yotanwa</td>\n",
       "      <td>95</td>\n",
       "      <td>99</td>\n",
       "      <td>96</td>\n",
       "      <td>Qin</td>\n",
       "      <td>Great General</td>\n",
       "    </tr>\n",
       "    <tr>\n",
       "      <th>1</th>\n",
       "      <td>Riboku</td>\n",
       "      <td>91</td>\n",
       "      <td>99</td>\n",
       "      <td>100</td>\n",
       "      <td>Zhao</td>\n",
       "      <td>Great General</td>\n",
       "    </tr>\n",
       "    <tr>\n",
       "      <th>2</th>\n",
       "      <td>Renpa</td>\n",
       "      <td>97</td>\n",
       "      <td>98</td>\n",
       "      <td>96</td>\n",
       "      <td>Zhao</td>\n",
       "      <td>Great General</td>\n",
       "    </tr>\n",
       "    <tr>\n",
       "      <th>7</th>\n",
       "      <td>Gekishin (Obs)</td>\n",
       "      <td>90</td>\n",
       "      <td>95</td>\n",
       "      <td>92</td>\n",
       "      <td>Yan</td>\n",
       "      <td>Great General</td>\n",
       "    </tr>\n",
       "    <tr>\n",
       "      <th>9</th>\n",
       "      <td>Tou</td>\n",
       "      <td>96</td>\n",
       "      <td>94</td>\n",
       "      <td>94</td>\n",
       "      <td>Qin</td>\n",
       "      <td>Great General</td>\n",
       "    </tr>\n",
       "    <tr>\n",
       "      <th>10</th>\n",
       "      <td>Ousen</td>\n",
       "      <td>93</td>\n",
       "      <td>94</td>\n",
       "      <td>97</td>\n",
       "      <td>Qin</td>\n",
       "      <td>Great General</td>\n",
       "    </tr>\n",
       "    <tr>\n",
       "      <th>11</th>\n",
       "      <td>Kanki</td>\n",
       "      <td>93</td>\n",
       "      <td>94</td>\n",
       "      <td>95</td>\n",
       "      <td>Qin</td>\n",
       "      <td>Great General</td>\n",
       "    </tr>\n",
       "    <tr>\n",
       "      <th>12</th>\n",
       "      <td>Ouki</td>\n",
       "      <td>98</td>\n",
       "      <td>93</td>\n",
       "      <td>95</td>\n",
       "      <td>Qin</td>\n",
       "      <td>Great General</td>\n",
       "    </tr>\n",
       "    <tr>\n",
       "      <th>13</th>\n",
       "      <td>Karin</td>\n",
       "      <td>94</td>\n",
       "      <td>93</td>\n",
       "      <td>97</td>\n",
       "      <td>Chu</td>\n",
       "      <td>Great General</td>\n",
       "    </tr>\n",
       "    <tr>\n",
       "      <th>14</th>\n",
       "      <td>Gokei</td>\n",
       "      <td>89</td>\n",
       "      <td>92</td>\n",
       "      <td>97</td>\n",
       "      <td>Wei</td>\n",
       "      <td>Great General</td>\n",
       "    </tr>\n",
       "    <tr>\n",
       "      <th>15</th>\n",
       "      <td>Moubu</td>\n",
       "      <td>99</td>\n",
       "      <td>92</td>\n",
       "      <td>86</td>\n",
       "      <td>Qin</td>\n",
       "      <td>Great General</td>\n",
       "    </tr>\n",
       "    <tr>\n",
       "      <th>18</th>\n",
       "      <td>Earl Shi</td>\n",
       "      <td>96</td>\n",
       "      <td>90</td>\n",
       "      <td>86</td>\n",
       "      <td>Wei</td>\n",
       "      <td>Great General</td>\n",
       "    </tr>\n",
       "    <tr>\n",
       "      <th>30</th>\n",
       "      <td>Gohoumei</td>\n",
       "      <td>60</td>\n",
       "      <td>89</td>\n",
       "      <td>98</td>\n",
       "      <td>Wei</td>\n",
       "      <td>Great General</td>\n",
       "    </tr>\n",
       "  </tbody>\n",
       "</table>\n",
       "</div>"
      ],
      "text/plain": [
       "              Name  Strength  Leadership  Knowledge State           Rank\n",
       "0          Yotanwa        95          99         96   Qin  Great General\n",
       "1           Riboku        91          99        100  Zhao  Great General\n",
       "2            Renpa        97          98         96  Zhao  Great General\n",
       "7   Gekishin (Obs)        90          95         92   Yan  Great General\n",
       "9              Tou        96          94         94   Qin  Great General\n",
       "10           Ousen        93          94         97   Qin  Great General\n",
       "11           Kanki        93          94         95   Qin  Great General\n",
       "12            Ouki        98          93         95   Qin  Great General\n",
       "13           Karin        94          93         97   Chu  Great General\n",
       "14           Gokei        89          92         97   Wei  Great General\n",
       "15           Moubu        99          92         86   Qin  Great General\n",
       "18        Earl Shi        96          90         86   Wei  Great General\n",
       "30        Gohoumei        60          89         98   Wei  Great General"
      ]
     },
     "execution_count": 80,
     "metadata": {},
     "output_type": "execute_result"
    }
   ],
   "source": [
    "gg = df[(df.Rank == 'Great General')]\n",
    "gg"
   ]
  },
  {
   "cell_type": "markdown",
   "metadata": {},
   "source": [
    "Sort the values of strength"
   ]
  },
  {
   "cell_type": "code",
   "execution_count": 81,
   "metadata": {},
   "outputs": [
    {
     "data": {
      "text/plain": [
       "<Axes: >"
      ]
     },
     "execution_count": 81,
     "metadata": {},
     "output_type": "execute_result"
    },
    {
     "data": {
      "image/png": "[encoded data removed]",
      "text/plain": [
       "<Figure size 640x480 with 1 Axes>"
      ]
     },
     "metadata": {},
     "output_type": "display_data"
    }
   ],
   "source": [
    "#First group data, Unstack, create variable to sort values, add Plot\n",
    "sorted_str = gg.sort_values(by='Strength',ascending=False)\n",
    "sorted_str.plot(kind='bar')"
   ]
  },
  {
   "cell_type": "markdown",
   "metadata": {},
   "source": [
    "Modify it so only generals with stats higher then 93"
   ]
  },
  {
   "cell_type": "code",
   "execution_count": 82,
   "metadata": {},
   "outputs": [
    {
     "data": {
      "text/html": [
       "<div>\n",
       "<style scoped>\n",
       "    .dataframe tbody tr th:only-of-type {\n",
       "        vertical-align: middle;\n",
       "    }\n",
       "\n",
       "    .dataframe tbody tr th {\n",
       "        vertical-align: top;\n",
       "    }\n",
       "\n",
       "    .dataframe thead th {\n",
       "        text-align: right;\n",
       "    }\n",
       "</style>\n",
       "<table border=\"1\" class=\"dataframe\">\n",
       "  <thead>\n",
       "    <tr style=\"text-align: right;\">\n",
       "      <th></th>\n",
       "      <th>Name</th>\n",
       "      <th>Strength</th>\n",
       "      <th>Leadership</th>\n",
       "      <th>Knowledge</th>\n",
       "      <th>State</th>\n",
       "      <th>Rank</th>\n",
       "    </tr>\n",
       "  </thead>\n",
       "  <tbody>\n",
       "    <tr>\n",
       "      <th>0</th>\n",
       "      <td>Yotanwa</td>\n",
       "      <td>95</td>\n",
       "      <td>99</td>\n",
       "      <td>96</td>\n",
       "      <td>Qin</td>\n",
       "      <td>Great General</td>\n",
       "    </tr>\n",
       "    <tr>\n",
       "      <th>2</th>\n",
       "      <td>Renpa</td>\n",
       "      <td>97</td>\n",
       "      <td>98</td>\n",
       "      <td>96</td>\n",
       "      <td>Zhao</td>\n",
       "      <td>Great General</td>\n",
       "    </tr>\n",
       "    <tr>\n",
       "      <th>9</th>\n",
       "      <td>Tou</td>\n",
       "      <td>96</td>\n",
       "      <td>94</td>\n",
       "      <td>94</td>\n",
       "      <td>Qin</td>\n",
       "      <td>Great General</td>\n",
       "    </tr>\n",
       "  </tbody>\n",
       "</table>\n",
       "</div>"
      ],
      "text/plain": [
       "      Name  Strength  Leadership  Knowledge State           Rank\n",
       "0  Yotanwa        95          99         96   Qin  Great General\n",
       "2    Renpa        97          98         96  Zhao  Great General\n",
       "9      Tou        96          94         94   Qin  Great General"
      ]
     },
     "execution_count": 82,
     "metadata": {},
     "output_type": "execute_result"
    }
   ],
   "source": [
    "gg = df[(df.Rank == 'Great General') & (df.Strength > 93) & (df.Leadership > 93) & (df.Knowledge > 93)]\n",
    "gg"
   ]
  }
 ],
 "metadata": {
  "kernelspec": {
   "display_name": "base",
   "language": "python",
   "name": "python3"
  },
  "language_info": {
   "codemirror_mode": {
    "name": "ipython",
    "version": 3
   },
   "file_extension": ".py",
   "mimetype": "text/x-python",
   "name": "python",
   "nbconvert_exporter": "python",
   "pygments_lexer": "ipython3",
   "version": "3.11.5"
  }
 },
 "nbformat": 4,
 "nbformat_minor": 2
}
